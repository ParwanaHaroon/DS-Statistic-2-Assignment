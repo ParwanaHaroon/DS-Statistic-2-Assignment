{
 "cells": [
  {
   "cell_type": "code",
   "execution_count": 1,
   "metadata": {},
   "outputs": [],
   "source": [
    "# DS Statistic-2 Assignment "
   ]
  },
  {
   "cell_type": "code",
   "execution_count": 2,
   "metadata": {},
   "outputs": [],
   "source": [
    "# Q1: A test is condcuted which is consisting of 20 MCQs with every MCQ\n",
    "# having its four options out of which only one is correct. Determine\n",
    "# probablity that a person undertaking that test has answered exactly 5\n",
    "# questions wrong. \n",
    "\n",
    "# Q2: A die marked to A to E is rolled 50 times. Find the probability\n",
    "# of getting a \"D\" exactly 5 times.\n",
    "\n",
    "#Q3: two ball are drawn at radnom in succession without replacement\n",
    "# from an containing 4 red balls and 6 black balls. Find the probablities \n",
    "# of all possible outoccomes. \n",
    "\n"
   ]
  },
  {
   "cell_type": "code",
   "execution_count": null,
   "metadata": {},
   "outputs": [],
   "source": [
    "Solution:\n",
    "\n",
    "Here, n = 20, n - k = 5, k = 20 - 5 = 15\n",
    "\n",
    "Here the probability of success = probability of giving a right answer = s = 1/4\n",
    "\n",
    "Hence, the probability of failure = probability of giving a wrong answer = 1 - s \n",
    "= 1 – 1/4 = 3/4\n",
    "\n",
    "When we substitute these values in the formula for Binomial distribution we get,\n",
    "\n",
    "So, P (exactly 5 out of 20 answers incorrect) = C (20, 5) * (1/4)(1/4)^15 * (3/4)(3/4)^5\n",
    "P (5 out of 20) = (20∗19∗18∗17∗16)/(5∗4∗3∗2∗1) * (1/4)^15 * (3/4)^5\n",
    "\n",
    "= 0.0000034 (approximately)"
   ]
  },
  {
   "cell_type": "code",
   "execution_count": null,
   "metadata": {},
   "outputs": [],
   "source": [
    "Solution 2: \n",
    "    \n",
    "Solution:\n",
    "\n",
    "Binomial probability distribution formulla is : n.c.k * p^k * (1-p)^(n-k)\n",
    "where n is total number of trials/occurance\n",
    "k is total number of success in n occurance\n",
    "p is the probability of success\n",
    "\n",
    "In the given scenario,\n",
    "n = 50formulla\n",
    "k = 5\n",
    "p = (1/5) = 0.2\n",
    "1-p = (1-1/5) = (4/5) = 0.8\n",
    "n-k = 50-5 = 45\n",
    "\n",
    "After substituting all the parameters in the binomial distribution formulla,\n",
    "Probability of the getting a “D” exactly 5 times in a die can be calculated as below  :\n",
    " => 50.c.5 * (0.2)^5 * (0.8)^45\n",
    " =>(50*49*48*47*46/5*4*3*2*1) * (0.2)^5 * (0.8)^45\n",
    " => 254251200/120\n",
    " => 2118760 * 0.00032 * 0.00004356\n",
    " => 0.0295 approx"
   ]
  },
  {
   "cell_type": "code",
   "execution_count": null,
   "metadata": {},
   "outputs": [],
   "source": []
  },
  {
   "cell_type": "code",
   "execution_count": null,
   "metadata": {},
   "outputs": [],
   "source": []
  },
  {
   "cell_type": "code",
   "execution_count": null,
   "metadata": {},
   "outputs": [],
   "source": []
  },
  {
   "cell_type": "code",
   "execution_count": null,
   "metadata": {},
   "outputs": [],
   "source": []
  }
 ],
 "metadata": {
  "kernelspec": {
   "display_name": "Python 3",
   "language": "python",
   "name": "python3"
  },
  "language_info": {
   "codemirror_mode": {
    "name": "ipython",
    "version": 3
   },
   "file_extension": ".py",
   "mimetype": "text/x-python",
   "name": "python",
   "nbconvert_exporter": "python",
   "pygments_lexer": "ipython3",
   "version": "3.6.8"
  }
 },
 "nbformat": 4,
 "nbformat_minor": 2
}
